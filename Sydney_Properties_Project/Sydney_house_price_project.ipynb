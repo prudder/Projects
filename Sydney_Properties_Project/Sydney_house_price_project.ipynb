{
 "cells": [
  {
   "cell_type": "markdown",
   "metadata": {},
   "source": [
    "# Sydney house prices: Are they really getting more expensive? <img style=\"float: right;\" img src=\"https://i0.wp.com/www.maxilife.com.au/wp-content/uploads/2017/06/house-dollar-seesaw.png?zoom=2&fit=256%2C256\" width=\"150\"> \n"
   ]
  },
  {
   "cell_type": "markdown",
   "metadata": {},
   "source": [
    "## Contents: \n",
    "\n",
    "#### 1. Objective, method and source\n",
    "   * 1.1 Objective\n",
    "   * 1.2 Method\n",
    "   * 1.3 Source\n",
    "\n",
    "#### 2. Sydney property data\n",
    "   * 2.1 Importing, reading and cleaning\n",
    "   * 2.2 Data dictionary for property\n",
    "   * 2.3 Sorting and separating\n",
    "   * 2.4 Plotting\n",
    "   * 2.5 Condensing\n",
    "   * 2.6 Calculating growth rates\n",
    "   \n",
    "#### 3. NSW wage data\n",
    "   * 3.1 Importing, reading and cleaning\n",
    "   * 3.2 Data dictionary for wages\n",
    "   * 3.3 Sorting and separating\n",
    "   * 3.4 Plotting\n",
    "   * 3.5 Condensing\n",
    "   * 3.6 Calculating growth rates\n",
    "\n",
    "#### 4. Sydney CPI data\n",
    "   * 4.1 Importing, reading and cleaning\n",
    "   * 4.2 Data dictionary for wages\n",
    "   * 4.3 Sorting and separating\n",
    "   * 4.4 Plotting\n",
    "   * 4.5 Calculating growth rates\n",
    "   \n",
    "#### 5. Comparison\n",
    "   * 5.1 Time series comparison\n",
    "   * 5.2 Bar chart comparison\n",
    "       * 5.2.1 Simple average growth\n",
    "       * 5.2.2 Per annum growth\n",
    "       * 5.2.3 Total growth\n",
    "   \n",
    "#### 6. Conclusion"
   ]
  },
  {
   "cell_type": "markdown",
   "metadata": {},
   "source": [
    "## 1. Objective, method and source\n",
    "\n",
    "### 1.1: Objective\n",
    "\n",
    "- The objective of this report is to answer the question, are house prices in Sydney really getting more expensive? And if they are, how much more expensive have they gotten compared to what we're earning and the price of consumer products.\n",
    "\n",
    "### 1.2: Method\n",
    "\n",
    "- To achieve this objective I will use exploratory data analysis on three different CSV files from the Australian Bureau of Statistics (ABS) that covers house prices, wage prices and consumer prices.\n",
    "\n",
    "\n",
    "- By the end of this report I will use the data contained in the CSV files to generate a line chart to compare how housing, wages and consumer goods have grown in comparison to each other. I will also calculate their total growth rate as a simple average growth, a per annum growth and a total growth and then plot those in a bar chart to give greater insight into how they've grown. \n",
    "\n",
    "\n",
    "- The time period I have chosen for this analysis is from March 2009 to March 2019 at a quarterly frequency.\n",
    "\n",
    "### 1.3: Source\n",
    "\n",
    "- As mentioned previously, the CSV files will be from the ABS, specifically the ABS.STAT (<http://stat.data.abs.gov.au/>) website. It offers data on many different aspects of the Australian economy. "
   ]
  },
  {
   "cell_type": "markdown",
   "metadata": {},
   "source": [
    "## 2. Sydney property data\n",
    "\n",
    "### 2.1: Importing, reading and cleaning\n",
    "- To start, I am importing the pandas module, along with numpy, matplotlib and the mean module from statistics."
   ]
  },
  {
   "cell_type": "code",
   "execution_count": 1,
   "metadata": {},
   "outputs": [],
   "source": [
    "import pandas as pd\n",
    "import numpy as np\n",
    "import matplotlib.pyplot as plt\n",
    "from statistics import mean"
   ]
  },
  {
   "cell_type": "markdown",
   "metadata": {},
   "source": [
    "- Once that is done I will read in the first CSV called 'property_index'."
   ]
  },
  {
   "cell_type": "code",
   "execution_count": 2,
   "metadata": {},
   "outputs": [
    {
     "name": "stdout",
     "output_type": "stream",
     "text": [
      "Good friend, you seem the file name you entered doesn't seem to exist, would you kindly try again? :)\n"
     ]
    }
   ],
   "source": [
    "try:\n",
    "    res_df = pd.read_csv('../final_project/data/property_indexd.csv')\n",
    "    \n",
    "except FileNotFoundError:\n",
    "    print('Good friend, you seem the file name you entered doesn\\'t seem to exist, would you kindly try again? :)')"
   ]
  },
  {
   "cell_type": "markdown",
   "metadata": {},
   "source": [
    "- Seems I have accidentally made a typo on the filename, luckily I have a try/except block that prints out a friendly message informing me of this fact rather than a big scary error message."
   ]
  },
  {
   "cell_type": "code",
   "execution_count": 47,
   "metadata": {},
   "outputs": [],
   "source": [
    "try:\n",
    "    res_df = pd.read_csv('../final_project/data/property_index.csv')\n",
    "    \n",
    "except FileNotFoundError:\n",
    "    print('Good friend, you seem to have entered in the wrong file name, would you kindly try again :) ?')"
   ]
  },
  {
   "cell_type": "markdown",
   "metadata": {},
   "source": [
    "- There we go, much better! This is directly from the ABS, so I suspect there will be a lot to change. To check this I will look at the columns and the first five rows of the dataframe."
   ]
  },
  {
   "cell_type": "code",
   "execution_count": 4,
   "metadata": {},
   "outputs": [
    {
     "data": {
      "text/plain": [
       "Index(['MEASURE', 'Measure', 'PROP_TYPE', 'Property type', 'ASGS_2011',\n",
       "       'Region', 'FREQUENCY', 'Frequency', 'TIME', 'Time', 'Value',\n",
       "       'Flag Codes', 'Flags'],\n",
       "      dtype='object')"
      ]
     },
     "execution_count": 4,
     "metadata": {},
     "output_type": "execute_result"
    }
   ],
   "source": [
    "res_df.columns"
   ]
  },
  {
   "cell_type": "code",
   "execution_count": 48,
   "metadata": {},
   "outputs": [
    {
     "data": {
      "text/plain": [
       "(3321, 13)"
      ]
     },
     "execution_count": 48,
     "metadata": {},
     "output_type": "execute_result"
    }
   ],
   "source": [
    "res_df.shape"
   ]
  },
  {
   "cell_type": "code",
   "execution_count": 5,
   "metadata": {},
   "outputs": [
    {
     "data": {
      "text/html": [
       "<div>\n",
       "<style scoped>\n",
       "    .dataframe tbody tr th:only-of-type {\n",
       "        vertical-align: middle;\n",
       "    }\n",
       "\n",
       "    .dataframe tbody tr th {\n",
       "        vertical-align: top;\n",
       "    }\n",
       "\n",
       "    .dataframe thead th {\n",
       "        text-align: right;\n",
       "    }\n",
       "</style>\n",
       "<table border=\"1\" class=\"dataframe\">\n",
       "  <thead>\n",
       "    <tr style=\"text-align: right;\">\n",
       "      <th></th>\n",
       "      <th>MEASURE</th>\n",
       "      <th>Measure</th>\n",
       "      <th>PROP_TYPE</th>\n",
       "      <th>Property type</th>\n",
       "      <th>ASGS_2011</th>\n",
       "      <th>Region</th>\n",
       "      <th>FREQUENCY</th>\n",
       "      <th>Frequency</th>\n",
       "      <th>TIME</th>\n",
       "      <th>Time</th>\n",
       "      <th>Value</th>\n",
       "      <th>Flag Codes</th>\n",
       "      <th>Flags</th>\n",
       "    </tr>\n",
       "  </thead>\n",
       "  <tbody>\n",
       "    <tr>\n",
       "      <th>0</th>\n",
       "      <td>3</td>\n",
       "      <td>Percentage change from corresponding quarter o...</td>\n",
       "      <td>3</td>\n",
       "      <td>Residential property</td>\n",
       "      <td>2GMEL</td>\n",
       "      <td>Greater Melbourne</td>\n",
       "      <td>Q</td>\n",
       "      <td>Quarterly</td>\n",
       "      <td>2009-Q1</td>\n",
       "      <td>Mar-09</td>\n",
       "      <td>-3.7</td>\n",
       "      <td>NaN</td>\n",
       "      <td>NaN</td>\n",
       "    </tr>\n",
       "    <tr>\n",
       "      <th>1</th>\n",
       "      <td>3</td>\n",
       "      <td>Percentage change from corresponding quarter o...</td>\n",
       "      <td>3</td>\n",
       "      <td>Residential property</td>\n",
       "      <td>2GMEL</td>\n",
       "      <td>Greater Melbourne</td>\n",
       "      <td>Q</td>\n",
       "      <td>Quarterly</td>\n",
       "      <td>2009-Q2</td>\n",
       "      <td>Jun-09</td>\n",
       "      <td>1.6</td>\n",
       "      <td>NaN</td>\n",
       "      <td>NaN</td>\n",
       "    </tr>\n",
       "    <tr>\n",
       "      <th>2</th>\n",
       "      <td>3</td>\n",
       "      <td>Percentage change from corresponding quarter o...</td>\n",
       "      <td>3</td>\n",
       "      <td>Residential property</td>\n",
       "      <td>2GMEL</td>\n",
       "      <td>Greater Melbourne</td>\n",
       "      <td>Q</td>\n",
       "      <td>Quarterly</td>\n",
       "      <td>2009-Q3</td>\n",
       "      <td>Sep-09</td>\n",
       "      <td>11.4</td>\n",
       "      <td>NaN</td>\n",
       "      <td>NaN</td>\n",
       "    </tr>\n",
       "    <tr>\n",
       "      <th>3</th>\n",
       "      <td>3</td>\n",
       "      <td>Percentage change from corresponding quarter o...</td>\n",
       "      <td>3</td>\n",
       "      <td>Residential property</td>\n",
       "      <td>2GMEL</td>\n",
       "      <td>Greater Melbourne</td>\n",
       "      <td>Q</td>\n",
       "      <td>Quarterly</td>\n",
       "      <td>2009-Q4</td>\n",
       "      <td>Dec-09</td>\n",
       "      <td>19.8</td>\n",
       "      <td>NaN</td>\n",
       "      <td>NaN</td>\n",
       "    </tr>\n",
       "    <tr>\n",
       "      <th>4</th>\n",
       "      <td>3</td>\n",
       "      <td>Percentage change from corresponding quarter o...</td>\n",
       "      <td>3</td>\n",
       "      <td>Residential property</td>\n",
       "      <td>2GMEL</td>\n",
       "      <td>Greater Melbourne</td>\n",
       "      <td>Q</td>\n",
       "      <td>Quarterly</td>\n",
       "      <td>2010-Q1</td>\n",
       "      <td>Mar-10</td>\n",
       "      <td>25.2</td>\n",
       "      <td>NaN</td>\n",
       "      <td>NaN</td>\n",
       "    </tr>\n",
       "  </tbody>\n",
       "</table>\n",
       "</div>"
      ],
      "text/plain": [
       "   MEASURE                                            Measure  PROP_TYPE  \\\n",
       "0        3  Percentage change from corresponding quarter o...          3   \n",
       "1        3  Percentage change from corresponding quarter o...          3   \n",
       "2        3  Percentage change from corresponding quarter o...          3   \n",
       "3        3  Percentage change from corresponding quarter o...          3   \n",
       "4        3  Percentage change from corresponding quarter o...          3   \n",
       "\n",
       "          Property type ASGS_2011             Region FREQUENCY  Frequency  \\\n",
       "0  Residential property     2GMEL  Greater Melbourne         Q  Quarterly   \n",
       "1  Residential property     2GMEL  Greater Melbourne         Q  Quarterly   \n",
       "2  Residential property     2GMEL  Greater Melbourne         Q  Quarterly   \n",
       "3  Residential property     2GMEL  Greater Melbourne         Q  Quarterly   \n",
       "4  Residential property     2GMEL  Greater Melbourne         Q  Quarterly   \n",
       "\n",
       "      TIME    Time  Value  Flag Codes  Flags  \n",
       "0  2009-Q1  Mar-09   -3.7         NaN    NaN  \n",
       "1  2009-Q2  Jun-09    1.6         NaN    NaN  \n",
       "2  2009-Q3  Sep-09   11.4         NaN    NaN  \n",
       "3  2009-Q4  Dec-09   19.8         NaN    NaN  \n",
       "4  2010-Q1  Mar-10   25.2         NaN    NaN  "
      ]
     },
     "execution_count": 5,
     "metadata": {},
     "output_type": "execute_result"
    }
   ],
   "source": [
    "res_df.head()"
   ]
  },
  {
   "cell_type": "markdown",
   "metadata": {},
   "source": [
    "- As we can see there are a lot of columns, and the dataframe itself is pretty messy and hard to read. \n",
    "\n",
    "\n",
    "- To start, I will delete the columns that I don't need to get the dataframe down to something much easier to read.\n",
    "\n",
    "    - The 'Flag Codes' and 'Flags' are not needed as they have no value. \n",
    "    \n",
    "    - There are also numbers attached that correspond to a string from each column. I can remove the string columns and write out what they correspond to in a data dictionary. The only one I'll leave is the 'Region' column as the ABS' code for that is a bit long and I might as well just keep the string. \n",
    "    \n",
    "    - After deletion, what I should be left with is just the encoded columns along with region, time and value."
   ]
  },
  {
   "cell_type": "code",
   "execution_count": 6,
   "metadata": {},
   "outputs": [
    {
     "data": {
      "text/html": [
       "<div>\n",
       "<style scoped>\n",
       "    .dataframe tbody tr th:only-of-type {\n",
       "        vertical-align: middle;\n",
       "    }\n",
       "\n",
       "    .dataframe tbody tr th {\n",
       "        vertical-align: top;\n",
       "    }\n",
       "\n",
       "    .dataframe thead th {\n",
       "        text-align: right;\n",
       "    }\n",
       "</style>\n",
       "<table border=\"1\" class=\"dataframe\">\n",
       "  <thead>\n",
       "    <tr style=\"text-align: right;\">\n",
       "      <th></th>\n",
       "      <th>MEASURE</th>\n",
       "      <th>PROP_TYPE</th>\n",
       "      <th>Region</th>\n",
       "      <th>Time</th>\n",
       "      <th>Value</th>\n",
       "    </tr>\n",
       "  </thead>\n",
       "  <tbody>\n",
       "    <tr>\n",
       "      <th>0</th>\n",
       "      <td>3</td>\n",
       "      <td>3</td>\n",
       "      <td>Greater Melbourne</td>\n",
       "      <td>Mar-09</td>\n",
       "      <td>-3.7</td>\n",
       "    </tr>\n",
       "    <tr>\n",
       "      <th>1</th>\n",
       "      <td>3</td>\n",
       "      <td>3</td>\n",
       "      <td>Greater Melbourne</td>\n",
       "      <td>Jun-09</td>\n",
       "      <td>1.6</td>\n",
       "    </tr>\n",
       "    <tr>\n",
       "      <th>2</th>\n",
       "      <td>3</td>\n",
       "      <td>3</td>\n",
       "      <td>Greater Melbourne</td>\n",
       "      <td>Sep-09</td>\n",
       "      <td>11.4</td>\n",
       "    </tr>\n",
       "    <tr>\n",
       "      <th>3</th>\n",
       "      <td>3</td>\n",
       "      <td>3</td>\n",
       "      <td>Greater Melbourne</td>\n",
       "      <td>Dec-09</td>\n",
       "      <td>19.8</td>\n",
       "    </tr>\n",
       "    <tr>\n",
       "      <th>4</th>\n",
       "      <td>3</td>\n",
       "      <td>3</td>\n",
       "      <td>Greater Melbourne</td>\n",
       "      <td>Mar-10</td>\n",
       "      <td>25.2</td>\n",
       "    </tr>\n",
       "  </tbody>\n",
       "</table>\n",
       "</div>"
      ],
      "text/plain": [
       "   MEASURE  PROP_TYPE             Region    Time  Value\n",
       "0        3          3  Greater Melbourne  Mar-09   -3.7\n",
       "1        3          3  Greater Melbourne  Jun-09    1.6\n",
       "2        3          3  Greater Melbourne  Sep-09   11.4\n",
       "3        3          3  Greater Melbourne  Dec-09   19.8\n",
       "4        3          3  Greater Melbourne  Mar-10   25.2"
      ]
     },
     "execution_count": 6,
     "metadata": {},
     "output_type": "execute_result"
    }
   ],
   "source": [
    "res_df = res_df.drop(['Measure','Property type','ASGS_2011','FREQUENCY','Frequency','TIME','Flag Codes','Flags'], axis=1)\n",
    "res_df.head(5)"
   ]
  },
  {
   "cell_type": "markdown",
   "metadata": {},
   "source": [
    "- As you can see this new dataframe is much easier to read!"
   ]
  },
  {
   "cell_type": "markdown",
   "metadata": {},
   "source": [
    "### 2.2: Data Dictionary for property\n",
    "\n",
    "* Measures:\n",
    "\n",
    "    * 1 = Index Number\n",
    "    * 2 = Percentage change from previous quarter\n",
    "    * 3 = Percentage change from corresponding quarter of the previous year\n",
    " \n",
    " \n",
    "* Property types:\n",
    "    \n",
    "    * 1 = Attached dwellings\n",
    "    * 2 = Established houses\n",
    "    * 3 = Residential property"
   ]
  },
  {
   "cell_type": "markdown",
   "metadata": {},
   "source": [
    "### 2.3: Sorting and separating\n",
    "\n",
    "- Because the ABS separates the time series data based on region I will need to condense this data frame further. For the purposes of this project, I will only be concerned with the Greater Sydney region. My filter for region will be = 'Greater Sydney'. \n",
    "\n",
    "\n",
    "- As you can see in the dictionary, there are three different measures. For this project I will only be using the index values, as I can derive all growth from those. So my filter for measure will be = 1. \n",
    "\n",
    "\n",
    "- There are three different property types: Attached dwellings, estbalished houses and residential property. I have created new dataframes separated by these property types so I can plot them later on to compare how they've grown over the last 10 years. "
   ]
  },
  {
   "cell_type": "code",
   "execution_count": 7,
   "metadata": {},
   "outputs": [],
   "source": [
    "#Attached dwellings\n",
    "syd_prop1 = res_df[(res_df['Region'] == 'Greater Sydney') & (res_df['MEASURE'] == 1) & (res_df['PROP_TYPE'] == 1)]\n",
    "#Established houses\n",
    "syd_prop2 = res_df[(res_df['Region'] == 'Greater Sydney') & (res_df['MEASURE'] == 1) & (res_df['PROP_TYPE'] == 2)]\n",
    "#Residential property\n",
    "syd_prop3 = res_df[(res_df['Region'] == 'Greater Sydney') & (res_df['MEASURE'] == 1) & (res_df['PROP_TYPE'] == 3)]"
   ]
  },
  {
   "cell_type": "markdown",
   "metadata": {},
   "source": [
    "### 2.4: Plotting\n",
    "\n",
    "- Now that I have three workable dataframes, I am now ready to start plotting them.\n",
    "\n",
    "\n",
    "- Before I do that however, I will import the 'toolbox' class from my 'swiss' module (for Swiss army knife). This module that I wrote, contains two classes 'toolbox' and 'growth_calculator'. For this section I will only need 'toolbox'. \n",
    "    - 'toolbox' contains a variety of functions to help in cleaning up the data in my dataframes, I will go into further detail on them as we go on."
   ]
  },
  {
   "cell_type": "code",
   "execution_count": 8,
   "metadata": {},
   "outputs": [],
   "source": [
    "from swiss import toolbox as tb"
   ]
  },
  {
   "cell_type": "markdown",
   "metadata": {},
   "source": [
    "- Now it's time to plot the dataframes' respective index values on a line graph. Because i'm plotting multiple series, I will use a for loop to plot each dataframe's 'Time' and 'Value' data, with 'Time' on the x-axis and 'Value' on the y-axis.\n",
    "\n",
    "\n",
    "- Because the original graph's x-axis was far too messy, I cleaned up the x-axis label by first applying the 'tb.axis_cleaner' method. This method from the 'toolbox' class removes any entry that doesn't begin the 'Mar', making the label much easier to read. (For more on what exactly this method does, consult the docstring).\n",
    "\n",
    "\n",
    "- You can also see that I've manually labelled the legend. This was done by finding out three different values at a point in time, and matching them to the line on the graph. You can see how I found this out in the block of code directly below. "
   ]
  },
  {
   "cell_type": "code",
   "execution_count": 9,
   "metadata": {},
   "outputs": [
    {
     "name": "stdout",
     "output_type": "stream",
     "text": [
      "For Mar-19:\n",
      "Attached dwellings was 145.6 \n",
      "Established houses was 158.4 \n",
      "Residential property was 154.2 \n",
      "Max value is 158.4\n"
     ]
    }
   ],
   "source": [
    "v1 = syd_prop1['Value'].iloc[40]\n",
    "v2 = syd_prop2['Value'].iloc[40]\n",
    "v3 = syd_prop3['Value'].iloc[40]\n",
    "print('For Mar-19:\\nAttached dwellings was',v1, '\\nEstablished houses was', v2, '\\nResidential property was',v3, '\\nMax value is',max(v1,v2,v3))"
   ]
  },
  {
   "cell_type": "code",
   "execution_count": 10,
   "metadata": {},
   "outputs": [
    {
     "data": {
      "text/plain": [
       "<matplotlib.legend.Legend at 0x116d04eb8>"
      ]
     },
     "execution_count": 10,
     "metadata": {},
     "output_type": "execute_result"
    },
    {
     "data": {
      "image/png": "[encoded data removed]",
      "text/plain": [
       "<Figure size 1080x576 with 1 Axes>"
      ]
     },
     "metadata": {
      "needs_background": "light"
     },
     "output_type": "display_data"
    }
   ],
   "source": [
    "for frame in [syd_prop1, syd_prop2, syd_prop3]:\n",
    "    ax1 = plt.plot(frame['Time'], frame['Value'])\n",
    "axis1 = ax1[0].axes\n",
    "#The 'axis_cleaner' method imported from the 'swiss' module contained in the 'toolbox' class reduces the labels on\n",
    "#the x-axis to just show every March. \n",
    "axis1.set_xticklabels(syd_prop1['Time'].apply(tb.axis_cleaner,1),rotation = 45,fontsize = 14)\n",
    "plt.ylabel('Index Value',fontsize = 15)\n",
    "plt.xlabel('Quarter',fontsize = 15)\n",
    "plt.title('Index property type comparison Mar-09 to Mar-19',fontsize = 20)\n",
    "axis1.figure.set_size_inches(15,8)\n",
    "\n",
    "plt.legend(['Attached dwellings','Established houses','Residential property'],fontsize = 14)"
   ]
  },
  {
   "cell_type": "markdown",
   "metadata": {},
   "source": [
    "- Our first graph above shows that prices were pretty much consistent for attached dwellings, established houses and residential property, but in late 2013 they began to deviate while still rising and falling with each other. We can see that estbalished houses have risen far faster than attached dwellings, suggesting that a freestanding house has become relatively more expensive than other property types. \n",
    "\n",
    "### 2.5: Condensing\n",
    "\n",
    "- Because we ultimately want to compare property prices to wages and consumer prices, I want just one single line that incorporates the data above to compare, otherwise the end result will be very confusing. \n",
    "\n",
    "\n",
    "- To do this, I will take an average of the three prices at each quarter to give me a single line series which will follow the average property price over the last 10 years.\n",
    "\n",
    "\n",
    "- Below I've created a new dataframe that takes in the values of the three separate dataframes I created above, which then creates a new column that takes the average of those three."
   ]
  },
  {
   "cell_type": "code",
   "execution_count": 11,
   "metadata": {},
   "outputs": [],
   "source": [
    "#Creating a new dataframe that merges the values of the different property types, then making a new column that\n",
    "#takes the average at teach column\n",
    "prop_df = pd.DataFrame(data={'prop1': syd_prop1['Value'].values,\n",
    "                        'prop2': syd_prop2['Value'].values,\n",
    "                        'prop3': syd_prop3['Value'].values,\n",
    "                       })\n",
    "prop_df['Average'] = prop_df.mean(axis=1)"
   ]
  },
  {
   "cell_type": "markdown",
   "metadata": {},
   "source": [
    "- Because I am plotting against time, I will take the 'Average' column from the above 'prop_df' and insert it into a copy of one of the above 'syd_prop' dataframes. This will allow me to easily plot the average value against time. \n",
    "\n",
    "\n",
    "- You will notice that i've applied two functions to the new column in this dataframe. 'tb.formatter' is a method from the 'toolbox' class that simply reduces the input to two decimal places (consult the docstring for 'tb.formatter' for more information on what this method exactly does).\n",
    "\n",
    "\n",
    "- Because the output was an object initially, I had to apply a 'float' function so I could properly plot it later on."
   ]
  },
  {
   "cell_type": "code",
   "execution_count": 12,
   "metadata": {},
   "outputs": [
    {
     "data": {
      "text/html": [
       "<div>\n",
       "<style scoped>\n",
       "    .dataframe tbody tr th:only-of-type {\n",
       "        vertical-align: middle;\n",
       "    }\n",
       "\n",
       "    .dataframe tbody tr th {\n",
       "        vertical-align: top;\n",
       "    }\n",
       "\n",
       "    .dataframe thead th {\n",
       "        text-align: right;\n",
       "    }\n",
       "</style>\n",
       "<table border=\"1\" class=\"dataframe\">\n",
       "  <thead>\n",
       "    <tr style=\"text-align: right;\">\n",
       "      <th></th>\n",
       "      <th>MEASURE</th>\n",
       "      <th>Region</th>\n",
       "      <th>Time</th>\n",
       "      <th>Value</th>\n",
       "    </tr>\n",
       "  </thead>\n",
       "  <tbody>\n",
       "    <tr>\n",
       "      <th>1189</th>\n",
       "      <td>1</td>\n",
       "      <td>Greater Sydney</td>\n",
       "      <td>Mar-09</td>\n",
       "      <td>83.97</td>\n",
       "    </tr>\n",
       "    <tr>\n",
       "      <th>1190</th>\n",
       "      <td>1</td>\n",
       "      <td>Greater Sydney</td>\n",
       "      <td>Jun-09</td>\n",
       "      <td>87.40</td>\n",
       "    </tr>\n",
       "    <tr>\n",
       "      <th>1191</th>\n",
       "      <td>1</td>\n",
       "      <td>Greater Sydney</td>\n",
       "      <td>Sep-09</td>\n",
       "      <td>90.90</td>\n",
       "    </tr>\n",
       "    <tr>\n",
       "      <th>1192</th>\n",
       "      <td>1</td>\n",
       "      <td>Greater Sydney</td>\n",
       "      <td>Dec-09</td>\n",
       "      <td>95.73</td>\n",
       "    </tr>\n",
       "    <tr>\n",
       "      <th>1193</th>\n",
       "      <td>1</td>\n",
       "      <td>Greater Sydney</td>\n",
       "      <td>Mar-10</td>\n",
       "      <td>98.50</td>\n",
       "    </tr>\n",
       "  </tbody>\n",
       "</table>\n",
       "</div>"
      ],
      "text/plain": [
       "      MEASURE          Region    Time  Value\n",
       "1189        1  Greater Sydney  Mar-09  83.97\n",
       "1190        1  Greater Sydney  Jun-09  87.40\n",
       "1191        1  Greater Sydney  Sep-09  90.90\n",
       "1192        1  Greater Sydney  Dec-09  95.73\n",
       "1193        1  Greater Sydney  Mar-10  98.50"
      ]
     },
     "execution_count": 12,
     "metadata": {},
     "output_type": "execute_result"
    }
   ],
   "source": [
    "#Now we take that average column and place it into a formatted dataframe so we can plot the date/value\n",
    "syd_prop_avg = syd_prop1.copy()\n",
    "#Don't need PROP_TYPE anymore so I'm getting rid of this column\n",
    "syd_prop_avg = syd_prop_avg.drop(['PROP_TYPE'],axis=1)\n",
    "syd_prop_avg['Value'] = prop_df['Average'].values\n",
    "#The 'formatter' method, imported from the 'swiss' module from the 'toolbox' class.\n",
    "syd_prop_avg['Value'] = syd_prop_avg['Value'].copy().apply(tb.formatter,1)\n",
    "syd_prop_avg['Value'] = syd_prop_avg['Value'].copy().apply(float,1)\n",
    "syd_prop_avg.head()"
   ]
  },
  {
   "cell_type": "markdown",
   "metadata": {},
   "source": [
    "- Now that we have our new dataframe, it's simply a matter of plotting it. Same as before, we are cleaning up the x-axis with 'axis_cleaner'."
   ]
  },
  {
   "cell_type": "code",
   "execution_count": 13,
   "metadata": {},
   "outputs": [
    {
     "data": {
      "image/png": "[encoded data removed]",
      "text/plain": [
       "<Figure size 1080x576 with 1 Axes>"
      ]
     },
     "metadata": {
      "needs_background": "light"
     },
     "output_type": "display_data"
    }
   ],
   "source": [
    "ax2 = plt.plot(syd_prop_avg['Time'], syd_prop_avg['Value'])\n",
    "axis2 = ax2[0].axes\n",
    "axis2.set_xticklabels(syd_prop1['Time'].apply(tb.axis_cleaner,1),rotation = 45,fontsize = 14)\n",
    "plt.ylabel('Index Value',fontsize = 15)\n",
    "plt.xlabel('Quarter',fontsize = 15)\n",
    "plt.title('Index property values Mar-09 to Mar-19',fontsize = 20)\n",
    "axis2.figure.set_size_inches(15,8)"
   ]
  },
  {
   "cell_type": "markdown",
   "metadata": {},
   "source": [
    "- Now with our first finished graph, we can see that Sydney house prices on average have accelerated their growth in the past 5-6 years. From early 2017 this growth reversed, yet the magnitude of growth previously shows that despite this shrinkage, house prices are still relatively far more expensive than they were 10 years ago.\n",
    "\n",
    "### 2.6: Calculating growth rates\n",
    "\n",
    "- Now that we have our two graphs, we do need a bit more information if we are to compare it to our wage and consumer price data and graph that will follow. \n",
    "\n",
    "\n",
    "- The average growth rate of the index is useful, but more useful to people is the per annum growth rate which has a bit of a different (and more complex) calculation method. To give a complete story, I'll also include the total growth.\n",
    "\n",
    "\n",
    "- To do this I will use my 'growth_calculator' class which contains methods to get the average growth, per annum growth and a rebalanced index list. This rebalanced index list is different to the index list provided by the ABS as it's rebalanced to 100 starting from March 2009. The reason I want this, is to accurately show how housing, wages and consumer products have grown from the same point."
   ]
  },
  {
   "cell_type": "code",
   "execution_count": 14,
   "metadata": {},
   "outputs": [],
   "source": [
    "from swiss import growth_calculator as gc"
   ]
  },
  {
   "cell_type": "markdown",
   "metadata": {},
   "source": [
    "- To output the average growth and per annum growth, I simply instantiate the class with the value I want to pass in. In this case it's the original average index list I had generated above. Once that's passed in the 'get_avg_growth' and 'get_pa_growth' methods do the rest. (For more information on these methods, consult the docstring).\n",
    "\n",
    "\n",
    "- I will also generate a total growth starting from March 2009 to March 2019 using the 'generate_growth_list' method in the 'toolbox' class. This method can either generate one single growth figure or a list of growth figures, it's flexible because it uses *args. Below I will store the total growth figure using this method.\n",
    "\n",
    "\n",
    "- Now it's just a matter of storing these variables for later, and outputting them as a statement for reference. "
   ]
  },
  {
   "cell_type": "code",
   "execution_count": 15,
   "metadata": {},
   "outputs": [
    {
     "name": "stdout",
     "output_type": "stream",
     "text": [
      "The simple average growth of property prices between Mar-09 and Mar-19 was 1.54%.\n",
      "The per annum growth since Mar-09 was 6.33%.\n",
      "The total growth since Mar-09 was 81.89%.\n"
     ]
    }
   ],
   "source": [
    "prop_avg_growth = gc(syd_prop_avg['Value']).get_avg_growth()\n",
    "prop_pa_growth = gc(syd_prop_avg['Value']).get_pa_growth()\n",
    "\n",
    "#Total growth calculated from first to last point on the index in this case between index '0' and '40'.\n",
    "prop_tot_growth = tb.generate_growth_rate_list(syd_prop_avg['Value'].iloc[0],syd_prop_avg['Value'].iloc[40])\n",
    "\n",
    "print (\"The simple average growth of property prices between Mar-09 and Mar-19 was {0:.2f}%.\".format(prop_avg_growth*100))\n",
    "print(\"The per annum growth since Mar-09 was {0:.2f}%.\".format(prop_pa_growth*100))\n",
    "#Indexing '0' because the method returns a single entry list, so to be formatted correctly it must be indexed.\n",
    "print(\"The total growth since Mar-09 was {0:.2f}%.\".format(prop_tot_growth[0]*100))"
   ]
  },
  {
   "cell_type": "markdown",
   "metadata": {},
   "source": [
    "- Hooray! We have everything we need now for our property data, we can already make some observations based on what we've got already, but to complete the full story we will need to compare it to our wage price data.\n",
    "\n",
    "## 3. NSW wage data\n",
    "\n",
    "### 3.1: Importing, reading and cleaning\n",
    "\n",
    "- I will follow the same process as I did for the above property data, adjusting to suit the different layout as needed. Below I've read in the second csv, 'wage_index.csv'"
   ]
  },
  {
   "cell_type": "code",
   "execution_count": 46,
   "metadata": {},
   "outputs": [],
   "source": [
    "try:\n",
    "    wage_df = pd.read_csv('../final_project/data/wage_index.csv')\n",
    "    \n",
    "except FileNotFoundError:\n",
    "    print('Good friend, you seem the file name you entered doesn\\'t seem to exist, would you kindly try again? :)')"
   ]
  },
  {
   "cell_type": "markdown",
   "metadata": {},
   "source": [
    "- Similar to the property data, there will be many columns to change and the data will need to be manipulated so it's boiled down to something more user friendly."
   ]
  },
  {
   "cell_type": "code",
   "execution_count": 17,
   "metadata": {},
   "outputs": [
    {
     "data": {
      "text/plain": [
       "Index(['MEASURE', 'Measure', 'INDEX', 'Index type', 'SECTOR', 'Sector',\n",
       "       'INDUSTRY', 'Industry', 'REGION', 'Region', 'TSEST', 'Adjustment type',\n",
       "       'FREQUENCY', 'Frequency', 'TIME', 'Time', 'Value', 'Flag Codes',\n",
       "       'Flags'],\n",
       "      dtype='object')"
      ]
     },
     "execution_count": 17,
     "metadata": {},
     "output_type": "execute_result"
    }
   ],
   "source": [
    "wage_df.columns"
   ]
  },
  {
   "cell_type": "code",
   "execution_count": 49,
   "metadata": {},
   "outputs": [
    {
     "data": {
      "text/plain": [
       "(3321, 19)"
      ]
     },
     "execution_count": 49,
     "metadata": {},
     "output_type": "execute_result"
    }
   ],
   "source": [
    "wage_df.shape"
   ]
  },
  {
   "cell_type": "code",
   "execution_count": 18,
   "metadata": {},
   "outputs": [
    {
     "data": {
      "text/html": [
       "<div>\n",
       "<style scoped>\n",
       "    .dataframe tbody tr th:only-of-type {\n",
       "        vertical-align: middle;\n",
       "    }\n",
       "\n",
       "    .dataframe tbody tr th {\n",
       "        vertical-align: top;\n",
       "    }\n",
       "\n",
       "    .dataframe thead th {\n",
       "        text-align: right;\n",
       "    }\n",
       "</style>\n",
       "<table border=\"1\" class=\"dataframe\">\n",
       "  <thead>\n",
       "    <tr style=\"text-align: right;\">\n",
       "      <th></th>\n",
       "      <th>MEASURE</th>\n",
       "      <th>Measure</th>\n",
       "      <th>INDEX</th>\n",
       "      <th>Index type</th>\n",
       "      <th>SECTOR</th>\n",
       "      <th>Sector</th>\n",
       "      <th>INDUSTRY</th>\n",
       "      <th>Industry</th>\n",
       "      <th>REGION</th>\n",
       "      <th>Region</th>\n",
       "      <th>TSEST</th>\n",
       "      <th>Adjustment type</th>\n",
       "      <th>FREQUENCY</th>\n",
       "      <th>Frequency</th>\n",
       "      <th>TIME</th>\n",
       "      <th>Time</th>\n",
       "      <th>Value</th>\n",
       "      <th>Flag Codes</th>\n",
       "      <th>Flags</th>\n",
       "    </tr>\n",
       "  </thead>\n",
       "  <tbody>\n",
       "    <tr>\n",
       "      <th>0</th>\n",
       "      <td>1</td>\n",
       "      <td>Index number</td>\n",
       "      <td>THRPEB</td>\n",
       "      <td>Total hourly rates of pay excluding bonuses</td>\n",
       "      <td>1</td>\n",
       "      <td>Private</td>\n",
       "      <td>-</td>\n",
       "      <td>All industries</td>\n",
       "      <td>1</td>\n",
       "      <td>New South Wales</td>\n",
       "      <td>10</td>\n",
       "      <td>Original</td>\n",
       "      <td>Q</td>\n",
       "      <td>Quarterly</td>\n",
       "      <td>2009-Q1</td>\n",
       "      <td>Mar-09</td>\n",
       "      <td>100.4</td>\n",
       "      <td>NaN</td>\n",
       "      <td>NaN</td>\n",
       "    </tr>\n",
       "    <tr>\n",
       "      <th>1</th>\n",
       "      <td>1</td>\n",
       "      <td>Index number</td>\n",
       "      <td>THRPEB</td>\n",
       "      <td>Total hourly rates of pay excluding bonuses</td>\n",
       "      <td>1</td>\n",
       "      <td>Private</td>\n",
       "      <td>-</td>\n",
       "      <td>All industries</td>\n",
       "      <td>1</td>\n",
       "      <td>New South Wales</td>\n",
       "      <td>10</td>\n",
       "      <td>Original</td>\n",
       "      <td>Q</td>\n",
       "      <td>Quarterly</td>\n",
       "      <td>2009-Q2</td>\n",
       "      <td>Jun-09</td>\n",
       "      <td>101.0</td>\n",
       "      <td>NaN</td>\n",
       "      <td>NaN</td>\n",
       "    </tr>\n",
       "    <tr>\n",
       "      <th>2</th>\n",
       "      <td>1</td>\n",
       "      <td>Index number</td>\n",
       "      <td>THRPEB</td>\n",
       "      <td>Total hourly rates of pay excluding bonuses</td>\n",
       "      <td>1</td>\n",
       "      <td>Private</td>\n",
       "      <td>-</td>\n",
       "      <td>All industries</td>\n",
       "      <td>1</td>\n",
       "      <td>New South Wales</td>\n",
       "      <td>10</td>\n",
       "      <td>Original</td>\n",
       "      <td>Q</td>\n",
       "      <td>Quarterly</td>\n",
       "      <td>2009-Q3</td>\n",
       "      <td>Sep-09</td>\n",
       "      <td>101.8</td>\n",
       "      <td>NaN</td>\n",
       "      <td>NaN</td>\n",
       "    </tr>\n",
       "    <tr>\n",
       "      <th>3</th>\n",
       "      <td>1</td>\n",
       "      <td>Index number</td>\n",
       "      <td>THRPEB</td>\n",
       "      <td>Total hourly rates of pay excluding bonuses</td>\n",
       "      <td>1</td>\n",
       "      <td>Private</td>\n",
       "      <td>-</td>\n",
       "      <td>All industries</td>\n",
       "      <td>1</td>\n",
       "      <td>New South Wales</td>\n",
       "      <td>10</td>\n",
       "      <td>Original</td>\n",
       "      <td>Q</td>\n",
       "      <td>Quarterly</td>\n",
       "      <td>2009-Q4</td>\n",
       "      <td>Dec-09</td>\n",
       "      <td>102.2</td>\n",
       "      <td>NaN</td>\n",
       "      <td>NaN</td>\n",
       "    </tr>\n",
       "    <tr>\n",
       "      <th>4</th>\n",
       "      <td>1</td>\n",
       "      <td>Index number</td>\n",
       "      <td>THRPEB</td>\n",
       "      <td>Total hourly rates of pay excluding bonuses</td>\n",
       "      <td>1</td>\n",
       "      <td>Private</td>\n",
       "      <td>-</td>\n",
       "      <td>All industries</td>\n",
       "      <td>1</td>\n",
       "      <td>New South Wales</td>\n",
       "      <td>10</td>\n",
       "      <td>Original</td>\n",
       "      <td>Q</td>\n",
       "      <td>Quarterly</td>\n",
       "      <td>2010-Q1</td>\n",
       "      <td>Mar-10</td>\n",
       "      <td>103.2</td>\n",
       "      <td>NaN</td>\n",
       "      <td>NaN</td>\n",
       "    </tr>\n",
       "  </tbody>\n",
       "</table>\n",
       "</div>"
      ],
      "text/plain": [
       "   MEASURE       Measure   INDEX                                   Index type  \\\n",
       "0        1  Index number  THRPEB  Total hourly rates of pay excluding bonuses   \n",
       "1        1  Index number  THRPEB  Total hourly rates of pay excluding bonuses   \n",
       "2        1  Index number  THRPEB  Total hourly rates of pay excluding bonuses   \n",
       "3        1  Index number  THRPEB  Total hourly rates of pay excluding bonuses   \n",
       "4        1  Index number  THRPEB  Total hourly rates of pay excluding bonuses   \n",
       "\n",
       "   SECTOR   Sector INDUSTRY        Industry  REGION           Region  TSEST  \\\n",
       "0       1  Private        -  All industries       1  New South Wales     10   \n",
       "1       1  Private        -  All industries       1  New South Wales     10   \n",
       "2       1  Private        -  All industries       1  New South Wales     10   \n",
       "3       1  Private        -  All industries       1  New South Wales     10   \n",
       "4       1  Private        -  All industries       1  New South Wales     10   \n",
       "\n",
       "  Adjustment type FREQUENCY  Frequency     TIME    Time  Value  Flag Codes  \\\n",
       "0        Original         Q  Quarterly  2009-Q1  Mar-09  100.4         NaN   \n",
       "1        Original         Q  Quarterly  2009-Q2  Jun-09  101.0         NaN   \n",
       "2        Original         Q  Quarterly  2009-Q3  Sep-09  101.8         NaN   \n",
       "3        Original         Q  Quarterly  2009-Q4  Dec-09  102.2         NaN   \n",
       "4        Original         Q  Quarterly  2010-Q1  Mar-10  103.2         NaN   \n",
       "\n",
       "   Flags  \n",
       "0    NaN  \n",
       "1    NaN  \n",
       "2    NaN  \n",
       "3    NaN  \n",
       "4    NaN  "
      ]
     },
     "execution_count": 18,
     "metadata": {},
     "output_type": "execute_result"
    }
   ],
   "source": [
    "wage_df.head()"
   ]
  },
  {
   "cell_type": "markdown",
   "metadata": {},
   "source": [
    "- The wage dataframe is even messier than the property dataframe! I want to get it to where it's just showing the encoded 'MEASURE', 'SECTOR' and 'REGION' columns, with the respective 'Time' and 'Value'. I have followed the same process as I did for the property index."
   ]
  },
  {
   "cell_type": "code",
   "execution_count": 19,
   "metadata": {},
   "outputs": [
    {
     "data": {
      "text/html": [
       "<div>\n",
       "<style scoped>\n",
       "    .dataframe tbody tr th:only-of-type {\n",
       "        vertical-align: middle;\n",
       "    }\n",
       "\n",
       "    .dataframe tbody tr th {\n",
       "        vertical-align: top;\n",
       "    }\n",
       "\n",
       "    .dataframe thead th {\n",
       "        text-align: right;\n",
       "    }\n",
       "</style>\n",
       "<table border=\"1\" class=\"dataframe\">\n",
       "  <thead>\n",
       "    <tr style=\"text-align: right;\">\n",
       "      <th></th>\n",
       "      <th>MEASURE</th>\n",
       "      <th>SECTOR</th>\n",
       "      <th>REGION</th>\n",
       "      <th>Time</th>\n",
       "      <th>Value</th>\n",
       "    </tr>\n",
       "  </thead>\n",
       "  <tbody>\n",
       "    <tr>\n",
       "      <th>0</th>\n",
       "      <td>1</td>\n",
       "      <td>1</td>\n",
       "      <td>1</td>\n",
       "      <td>Mar-09</td>\n",
       "      <td>100.4</td>\n",
       "    </tr>\n",
       "    <tr>\n",
       "      <th>1</th>\n",
       "      <td>1</td>\n",
       "      <td>1</td>\n",
       "      <td>1</td>\n",
       "      <td>Jun-09</td>\n",
       "      <td>101.0</td>\n",
       "    </tr>\n",
       "    <tr>\n",
       "      <th>2</th>\n",
       "      <td>1</td>\n",
       "      <td>1</td>\n",
       "      <td>1</td>\n",
       "      <td>Sep-09</td>\n",
       "      <td>101.8</td>\n",
       "    </tr>\n",
       "    <tr>\n",
       "      <th>3</th>\n",
       "      <td>1</td>\n",
       "      <td>1</td>\n",
       "      <td>1</td>\n",
       "      <td>Dec-09</td>\n",
       "      <td>102.2</td>\n",
       "    </tr>\n",
       "    <tr>\n",
       "      <th>4</th>\n",
       "      <td>1</td>\n",
       "      <td>1</td>\n",
       "      <td>1</td>\n",
       "      <td>Mar-10</td>\n",
       "      <td>103.2</td>\n",
       "    </tr>\n",
       "  </tbody>\n",
       "</table>\n",
       "</div>"
      ],
      "text/plain": [
       "   MEASURE  SECTOR  REGION    Time  Value\n",
       "0        1       1       1  Mar-09  100.4\n",
       "1        1       1       1  Jun-09  101.0\n",
       "2        1       1       1  Sep-09  101.8\n",
       "3        1       1       1  Dec-09  102.2\n",
       "4        1       1       1  Mar-10  103.2"
      ]
     },
     "execution_count": 19,
     "metadata": {},
     "output_type": "execute_result"
    }
   ],
   "source": [
    "wage_df = wage_df.drop(['Measure','INDEX','Index type','Sector','INDUSTRY','Industry','Region','TSEST','Adjustment type','FREQUENCY','Frequency','TIME','Flag Codes','Flags'], axis=1)\n",
    "wage_df.head()"
   ]
  },
  {
   "cell_type": "markdown",
   "metadata": {},
   "source": [
    "- There we go, much better! As you can see, very similar to the property dataframe, only that everything is now encoded. The ABS encoded each region in a much better way, so I've removed any string column."
   ]
  },
  {
   "cell_type": "markdown",
   "metadata": {},
   "source": [
    "### 3.2: Data Dictionary for wages:\n",
    "* Measures:\n",
    "\n",
    "    * 1 = Index number\n",
    "    * 2 = Percentage change from previous quarter\n",
    "    * 3 = Percentage change from corresponding quarter of the previous year\n",
    " \n",
    " \n",
    "* Sectors:\n",
    "    \n",
    "    * 1 = Public Sector\n",
    "    * 2 = Private Sector\n",
    "    * 3 = All Sectors\n",
    "\n",
    "* Regions:\n",
    "    \n",
    "    * 0 = Australia\n",
    "    * 1 = New South Wales\n",
    "    * 2 = Victoria\n",
    "    * 3 = Queensland\n",
    "    * 4 = South Australia\n",
    "    * 5 = Western Australia\n",
    "    * 6 = Tasmania\n",
    "    * 7 = Northern Territory\n",
    "    * 8 = ACT"
   ]
  },
  {
   "cell_type": "markdown",
   "metadata": {},
   "source": [
    "### 3.3: Sorting and separating\n",
    "\n",
    "- As we can see, there are a few key differences to the property dataframe. While the 'Measures' remain the same, we now have 'Sectors' and 'Regions' (instead of cities). The ABS only has wage data per state, so we will be using that to compare to 'Greater Sydney'.\n",
    "\n",
    "\n",
    "- One thing that I noticed in the ABS csv, was that the index for 'Sectors' had 7 as the index for 'All Sectors'. For consistency I decided to change it to 3 by applying the 'tb.index_fixer' method from the 'toolbox' class. This simply converts any 7 it finds to a 3. (For more information consult the tb.index_fixer docstring)."
   ]
  },
  {
   "cell_type": "code",
   "execution_count": 20,
   "metadata": {},
   "outputs": [],
   "source": [
    "wage_df['SECTOR'] = wage_df['SECTOR'].copy().apply(tb.index_fixer,1)"
   ]
  },
  {
   "cell_type": "code",
   "execution_count": 21,
   "metadata": {},
   "outputs": [
    {
     "data": {
      "text/html": [
       "<div>\n",
       "<style scoped>\n",
       "    .dataframe tbody tr th:only-of-type {\n",
       "        vertical-align: middle;\n",
       "    }\n",
       "\n",
       "    .dataframe tbody tr th {\n",
       "        vertical-align: top;\n",
       "    }\n",
       "\n",
       "    .dataframe thead th {\n",
       "        text-align: right;\n",
       "    }\n",
       "</style>\n",
       "<table border=\"1\" class=\"dataframe\">\n",
       "  <thead>\n",
       "    <tr style=\"text-align: right;\">\n",
       "      <th></th>\n",
       "      <th>MEASURE</th>\n",
       "      <th>SECTOR</th>\n",
       "      <th>REGION</th>\n",
       "      <th>Time</th>\n",
       "      <th>Value</th>\n",
       "    </tr>\n",
       "  </thead>\n",
       "  <tbody>\n",
       "    <tr>\n",
       "      <th>0</th>\n",
       "      <td>1</td>\n",
       "      <td>1</td>\n",
       "      <td>1</td>\n",
       "      <td>Mar-09</td>\n",
       "      <td>100.4</td>\n",
       "    </tr>\n",
       "    <tr>\n",
       "      <th>1</th>\n",
       "      <td>1</td>\n",
       "      <td>1</td>\n",
       "      <td>1</td>\n",
       "      <td>Jun-09</td>\n",
       "      <td>101.0</td>\n",
       "    </tr>\n",
       "    <tr>\n",
       "      <th>2</th>\n",
       "      <td>1</td>\n",
       "      <td>1</td>\n",
       "      <td>1</td>\n",
       "      <td>Sep-09</td>\n",
       "      <td>101.8</td>\n",
       "    </tr>\n",
       "    <tr>\n",
       "      <th>3</th>\n",
       "      <td>1</td>\n",
       "      <td>1</td>\n",
       "      <td>1</td>\n",
       "      <td>Dec-09</td>\n",
       "      <td>102.2</td>\n",
       "    </tr>\n",
       "    <tr>\n",
       "      <th>4</th>\n",
       "      <td>1</td>\n",
       "      <td>1</td>\n",
       "      <td>1</td>\n",
       "      <td>Mar-10</td>\n",
       "      <td>103.2</td>\n",
       "    </tr>\n",
       "  </tbody>\n",
       "</table>\n",
       "</div>"
      ],
      "text/plain": [
       "   MEASURE  SECTOR  REGION    Time  Value\n",
       "0        1       1       1  Mar-09  100.4\n",
       "1        1       1       1  Jun-09  101.0\n",
       "2        1       1       1  Sep-09  101.8\n",
       "3        1       1       1  Dec-09  102.2\n",
       "4        1       1       1  Mar-10  103.2"
      ]
     },
     "execution_count": 21,
     "metadata": {},
     "output_type": "execute_result"
    }
   ],
   "source": [
    "wage_df.head()"
   ]
  },
  {
   "cell_type": "markdown",
   "metadata": {},
   "source": [
    "- Now that we have a workable dataframe, it's time to separate them again. \n",
    "\n",
    "\n",
    "- This is the exact same process as I did for properties, only I am plotting the different sectors against each other intitially. So the 'REGION' and 'MEASURE' filter will be exactly the same for each dataframe, only 'SECTOR' will be different. "
   ]
  },
  {
   "cell_type": "code",
   "execution_count": 22,
   "metadata": {},
   "outputs": [],
   "source": [
    "#Public sector\n",
    "nsw_sec1 = wage_df[(wage_df['REGION'] == 1) & (wage_df['MEASURE'] == 1) & (wage_df['SECTOR'] == 1)]\n",
    "#Private sector\n",
    "nsw_sec2 = wage_df[(wage_df['REGION'] == 1) & (wage_df['MEASURE'] == 1) & (wage_df['SECTOR'] == 2)]\n",
    "#All sectors\n",
    "nsw_sec3 = wage_df[(wage_df['REGION'] == 1) & (wage_df['MEASURE'] == 1) & (wage_df['SECTOR'] == 3)]"
   ]
  },
  {
   "cell_type": "markdown",
   "metadata": {},
   "source": [
    "### 3.4: Plotting\n",
    "\n",
    "- Similar to before (for more details refer to 2.4), I will clean up the x-axis of my graph with 'tb.axis_cleaner'. The end result is shown below. "
   ]
  },
  {
   "cell_type": "code",
   "execution_count": 23,
   "metadata": {},
   "outputs": [
    {
     "name": "stdout",
     "output_type": "stream",
     "text": [
      "For Mar-19:\n",
      "Public sector was 130.0 \n",
      "Private sector 133.6 \n",
      "All sectors was 130.8 \n",
      "Max value is 133.6\n"
     ]
    }
   ],
   "source": [
    "v1 = nsw_sec1['Value'].iloc[40]\n",
    "v2 = nsw_sec2['Value'].iloc[40]\n",
    "v3 = nsw_sec3['Value'].iloc[40]\n",
    "print('For Mar-19:\\nPublic sector was',v1, '\\nPrivate sector', v2, '\\nAll sectors was',v3, '\\nMax value is',max(v1,v2,v3))"
   ]
  },
  {
   "cell_type": "code",
   "execution_count": 24,
   "metadata": {},
   "outputs": [
    {
     "data": {
      "text/plain": [
       "<matplotlib.legend.Legend at 0x103f8fd68>"
      ]
     },
     "execution_count": 24,
     "metadata": {},
     "output_type": "execute_result"
    },
    {
     "data": {
      "image/png": "[encoded data removed]",
      "text/plain": [
       "<Figure size 1080x576 with 1 Axes>"
      ]
     },
     "metadata": {
      "needs_background": "light"
     },
     "output_type": "display_data"
    }
   ],
   "source": [
    "for frame in [nsw_sec1, nsw_sec2, nsw_sec3]:\n",
    "    ax3 = plt.plot(frame['Time'], frame['Value'])\n",
    "axis3 = ax3[0].axes\n",
    "axis3.set_xticklabels(nsw_sec1['Time'].apply(tb.axis_cleaner,1),rotation = 45,fontsize = 14)\n",
    "plt.ylabel('Index Value',fontsize = 15)\n",
    "plt.xlabel('Quarter',fontsize = 15)\n",
    "plt.title('Index wage values sector comparison Mar-09 to Mar-19',fontsize = 20)\n",
    "axis3.figure.set_size_inches(15,8)\n",
    "\n",
    "#See block above to find out how I manually assigned the legend labels.\n",
    "plt.legend(['Public sector','Private sector','All sectors'],fontsize = 14)"
   ]
  },
  {
   "cell_type": "markdown",
   "metadata": {},
   "source": [
    "- Our second graph shows that wages have also grown considerably since March 2009. It also shows that both the public and private sector have grown consistently with each other, with the private sector's growth slightly outpacing the public sector's growth towards the end of the time period. \n",
    "\n",
    "### 3.5: Condensing\n",
    "\n",
    "- Like what we did with properties, we want to condense this 3 series graph into one. \n",
    "\n",
    "\n",
    "- To do this, I am following the exact same process as I did before (please consult 2.5), however I am only taking an average of the Public and Private sector."
   ]
  },
  {
   "cell_type": "code",
   "execution_count": 25,
   "metadata": {},
   "outputs": [
    {
     "data": {
      "text/html": [
       "<div>\n",
       "<style scoped>\n",
       "    .dataframe tbody tr th:only-of-type {\n",
       "        vertical-align: middle;\n",
       "    }\n",
       "\n",
       "    .dataframe tbody tr th {\n",
       "        vertical-align: top;\n",
       "    }\n",
       "\n",
       "    .dataframe thead th {\n",
       "        text-align: right;\n",
       "    }\n",
       "</style>\n",
       "<table border=\"1\" class=\"dataframe\">\n",
       "  <thead>\n",
       "    <tr style=\"text-align: right;\">\n",
       "      <th></th>\n",
       "      <th>sec1</th>\n",
       "      <th>sec2</th>\n",
       "      <th>Average</th>\n",
       "    </tr>\n",
       "  </thead>\n",
       "  <tbody>\n",
       "    <tr>\n",
       "      <th>0</th>\n",
       "      <td>100.4</td>\n",
       "      <td>100.7</td>\n",
       "      <td>100.55</td>\n",
       "    </tr>\n",
       "    <tr>\n",
       "      <th>1</th>\n",
       "      <td>101.0</td>\n",
       "      <td>101.4</td>\n",
       "      <td>101.20</td>\n",
       "    </tr>\n",
       "    <tr>\n",
       "      <th>2</th>\n",
       "      <td>101.8</td>\n",
       "      <td>103.5</td>\n",
       "      <td>102.65</td>\n",
       "    </tr>\n",
       "    <tr>\n",
       "      <th>3</th>\n",
       "      <td>102.2</td>\n",
       "      <td>104.0</td>\n",
       "      <td>103.10</td>\n",
       "    </tr>\n",
       "    <tr>\n",
       "      <th>4</th>\n",
       "      <td>103.2</td>\n",
       "      <td>105.2</td>\n",
       "      <td>104.20</td>\n",
       "    </tr>\n",
       "  </tbody>\n",
       "</table>\n",
       "</div>"
      ],
      "text/plain": [
       "    sec1   sec2  Average\n",
       "0  100.4  100.7   100.55\n",
       "1  101.0  101.4   101.20\n",
       "2  101.8  103.5   102.65\n",
       "3  102.2  104.0   103.10\n",
       "4  103.2  105.2   104.20"
      ]
     },
     "execution_count": 25,
     "metadata": {},
     "output_type": "execute_result"
    }
   ],
   "source": [
    "#Creating a new dataframe that merges the values of the different sectors, then making a new column that\n",
    "#takes the average at teach column\n",
    "avg_wage_df = pd.DataFrame(data={'sec1': nsw_sec1['Value'].values,\n",
    "                                 'sec2': nsw_sec2['Value'].values,\n",
    "                        })\n",
    "avg_wage_df['Average'] = avg_wage_df.mean(axis=1)\n",
    "avg_wage_df.head()"
   ]
  },
  {
   "cell_type": "markdown",
   "metadata": {},
   "source": [
    "- Similar to before, I'm taking the new 'Average' column and inserting it into a one of the new dataframes I created so I can easily plot it against time. \n",
    "\n",
    "\n",
    "- For some reason the average values were already formatted to two decimal places, so I simply just have to convert them to a float and it's ready to be plotted."
   ]
  },
  {
   "cell_type": "code",
   "execution_count": 26,
   "metadata": {},
   "outputs": [
    {
     "data": {
      "text/html": [
       "<div>\n",
       "<style scoped>\n",
       "    .dataframe tbody tr th:only-of-type {\n",
       "        vertical-align: middle;\n",
       "    }\n",
       "\n",
       "    .dataframe tbody tr th {\n",
       "        vertical-align: top;\n",
       "    }\n",
       "\n",
       "    .dataframe thead th {\n",
       "        text-align: right;\n",
       "    }\n",
       "</style>\n",
       "<table border=\"1\" class=\"dataframe\">\n",
       "  <thead>\n",
       "    <tr style=\"text-align: right;\">\n",
       "      <th></th>\n",
       "      <th>MEASURE</th>\n",
       "      <th>REGION</th>\n",
       "      <th>Time</th>\n",
       "      <th>Value</th>\n",
       "    </tr>\n",
       "  </thead>\n",
       "  <tbody>\n",
       "    <tr>\n",
       "      <th>0</th>\n",
       "      <td>1</td>\n",
       "      <td>1</td>\n",
       "      <td>Mar-09</td>\n",
       "      <td>100.55</td>\n",
       "    </tr>\n",
       "    <tr>\n",
       "      <th>1</th>\n",
       "      <td>1</td>\n",
       "      <td>1</td>\n",
       "      <td>Jun-09</td>\n",
       "      <td>101.20</td>\n",
       "    </tr>\n",
       "    <tr>\n",
       "      <th>2</th>\n",
       "      <td>1</td>\n",
       "      <td>1</td>\n",
       "      <td>Sep-09</td>\n",
       "      <td>102.65</td>\n",
       "    </tr>\n",
       "    <tr>\n",
       "      <th>3</th>\n",
       "      <td>1</td>\n",
       "      <td>1</td>\n",
       "      <td>Dec-09</td>\n",
       "      <td>103.10</td>\n",
       "    </tr>\n",
       "    <tr>\n",
       "      <th>4</th>\n",
       "      <td>1</td>\n",
       "      <td>1</td>\n",
       "      <td>Mar-10</td>\n",
       "      <td>104.20</td>\n",
       "    </tr>\n",
       "  </tbody>\n",
       "</table>\n",
       "</div>"
      ],
      "text/plain": [
       "   MEASURE  REGION    Time   Value\n",
       "0        1       1  Mar-09  100.55\n",
       "1        1       1  Jun-09  101.20\n",
       "2        1       1  Sep-09  102.65\n",
       "3        1       1  Dec-09  103.10\n",
       "4        1       1  Mar-10  104.20"
      ]
     },
     "execution_count": 26,
     "metadata": {},
     "output_type": "execute_result"
    }
   ],
   "source": [
    "#Now we take that average column and place it into a formatted dataframe so we can plot the date/value\n",
    "nsw_wage_avg = nsw_sec1.copy()\n",
    "nsw_wage_avg = nsw_wage_avg.drop(['SECTOR'],axis=1)\n",
    "nsw_wage_avg['Value'] = avg_wage_df['Average'].values\n",
    "nsw_wage_avg['Value'] = nsw_wage_avg['Value'].copy().apply(float,1)\n",
    "nsw_wage_avg.head()"
   ]
  },
  {
   "cell_type": "markdown",
   "metadata": {},
   "source": [
    "- With the completed dataframe it's just a matter of plotting it and cleaning up the x-axis label with 'axis_cleaner'."
   ]
  },
  {
   "cell_type": "code",
   "execution_count": 27,
   "metadata": {},
   "outputs": [
    {
     "data": {
      "image/png": "[encoded data removed]",
      "text/plain": [
       "<Figure size 1080x576 with 1 Axes>"
      ]
     },
     "metadata": {
      "needs_background": "light"
     },
     "output_type": "display_data"
    }
   ],
   "source": [
    "ax4 = plt.plot(nsw_wage_avg['Time'], nsw_wage_avg['Value'])\n",
    "axis4 = ax4[0].axes\n",
    "axis4.set_xticklabels(nsw_sec1['Time'].apply(tb.axis_cleaner,1),rotation = 45,fontsize = 14)\n",
    "plt.ylabel('Index Value',fontsize = 15)\n",
    "plt.xlabel('Quarter',fontsize = 15)\n",
    "plt.title('Average wage index values Mar-09 to Mar-19',fontsize = 20)\n",
    "axis4.figure.set_size_inches(15,8)"
   ]
  },
  {
   "cell_type": "markdown",
   "metadata": {},
   "source": [
    "- Now with our finished product, we have a good idea of how wages have grown overall since March 2009. We can see it's a much more consistent growth with a lot less volatility than property prices. What will be interesting is comparing the growth rates.\n",
    "\n",
    "### 3.6: Calculating growth rates\n",
    "\n",
    "- Similar to property prices (please consult 2.6 for more information), we are storing our wage per annum and average growth values to use later, then printing out the variables below for reference.\n",
    "\n",
    "\n",
    "- Just looking at how the growth rates below compare to the property growth rates, we can already see a huge difference."
   ]
  },
  {
   "cell_type": "code",
   "execution_count": 28,
   "metadata": {},
   "outputs": [
    {
     "name": "stdout",
     "output_type": "stream",
     "text": [
      "The simple average growth of wages between Mar-09 and Mar-19 was 0.68%.\n",
      "The per annum growth since Mar-09 was 2.81%.\n",
      "The total growth since Mar-09 was 31.08%.\n"
     ]
    }
   ],
   "source": [
    "wage_avg_growth = gc(nsw_wage_avg['Value']).get_avg_growth()\n",
    "wage_pa_growth = gc(nsw_wage_avg['Value']).get_pa_growth()\n",
    "\n",
    "#Total growth calculated from first to last point on the index in this case between index '0' and '40'.\n",
    "wage_tot_growth = tb.generate_growth_rate_list(nsw_wage_avg['Value'].iloc[0],nsw_wage_avg['Value'].iloc[40])\n",
    "\n",
    "print (\"The simple average growth of wages between Mar-09 and Mar-19 was {0:.2f}%.\".format(wage_avg_growth*100))\n",
    "print(\"The per annum growth since Mar-09 was {0:.2f}%.\".format(wage_pa_growth*100))\n",
    "\n",
    "#Indexing '0' because the method returns a single entry list, so to be formatted it must be indexed.\n",
    "print(\"The total growth since Mar-09 was {0:.2f}%.\".format(wage_tot_growth[0]*100))"
   ]
  },
  {
   "cell_type": "markdown",
   "metadata": {},
   "source": [
    "## 4. Sydney CPI data\n",
    "\n",
    "### 4.1: Importing, reading and cleaning\n",
    "\n",
    "- By now, you're familiar with the process, below is just reading in the 'cpi_index' csv."
   ]
  },
  {
   "cell_type": "code",
   "execution_count": 29,
   "metadata": {},
   "outputs": [],
   "source": [
    "try:\n",
    "    cpi_df = pd.read_csv('../final_project/data/cpi_index.csv')\n",
    "    \n",
    "except FileNotFoundError:\n",
    "    print('Good friend, you seem the file name you entered doesn\\'t seem to exist, would you kindly try again? :)')"
   ]
  },
  {
   "cell_type": "code",
   "execution_count": 30,
   "metadata": {},
   "outputs": [
    {
     "data": {
      "text/plain": [
       "Index(['MEASURE', 'Measure', 'REGION', 'Region', 'INDEX', 'Index', 'TSEST',\n",
       "       'Adjustment Type', 'FREQUENCY', 'Frequency', 'TIME', 'Time', 'Value',\n",
       "       'Flag Codes', 'Flags'],\n",
       "      dtype='object')"
      ]
     },
     "execution_count": 30,
     "metadata": {},
     "output_type": "execute_result"
    }
   ],
   "source": [
    "cpi_df.columns"
   ]
  },
  {
   "cell_type": "code",
   "execution_count": 50,
   "metadata": {},
   "outputs": [
    {
     "data": {
      "text/plain": [
       "(1107, 4)"
      ]
     },
     "execution_count": 50,
     "metadata": {},
     "output_type": "execute_result"
    }
   ],
   "source": [
    "cpi_df.shape"
   ]
  },
  {
   "cell_type": "code",
   "execution_count": 31,
   "metadata": {},
   "outputs": [
    {
     "data": {
      "text/html": [
       "<div>\n",
       "<style scoped>\n",
       "    .dataframe tbody tr th:only-of-type {\n",
       "        vertical-align: middle;\n",
       "    }\n",
       "\n",
       "    .dataframe tbody tr th {\n",
       "        vertical-align: top;\n",
       "    }\n",
       "\n",
       "    .dataframe thead th {\n",
       "        text-align: right;\n",
       "    }\n",
       "</style>\n",
       "<table border=\"1\" class=\"dataframe\">\n",
       "  <thead>\n",
       "    <tr style=\"text-align: right;\">\n",
       "      <th></th>\n",
       "      <th>MEASURE</th>\n",
       "      <th>Measure</th>\n",
       "      <th>REGION</th>\n",
       "      <th>Region</th>\n",
       "      <th>INDEX</th>\n",
       "      <th>Index</th>\n",
       "      <th>TSEST</th>\n",
       "      <th>Adjustment Type</th>\n",
       "      <th>FREQUENCY</th>\n",
       "      <th>Frequency</th>\n",
       "      <th>TIME</th>\n",
       "      <th>Time</th>\n",
       "      <th>Value</th>\n",
       "      <th>Flag Codes</th>\n",
       "      <th>Flags</th>\n",
       "    </tr>\n",
       "  </thead>\n",
       "  <tbody>\n",
       "    <tr>\n",
       "      <th>0</th>\n",
       "      <td>1</td>\n",
       "      <td>Index Numbers</td>\n",
       "      <td>1</td>\n",
       "      <td>Sydney</td>\n",
       "      <td>10001</td>\n",
       "      <td>All groups CPI</td>\n",
       "      <td>10</td>\n",
       "      <td>Original</td>\n",
       "      <td>Q</td>\n",
       "      <td>Quarterly</td>\n",
       "      <td>2009-Q1</td>\n",
       "      <td>Mar-09</td>\n",
       "      <td>92.5</td>\n",
       "      <td>NaN</td>\n",
       "      <td>NaN</td>\n",
       "    </tr>\n",
       "    <tr>\n",
       "      <th>1</th>\n",
       "      <td>1</td>\n",
       "      <td>Index Numbers</td>\n",
       "      <td>1</td>\n",
       "      <td>Sydney</td>\n",
       "      <td>10001</td>\n",
       "      <td>All groups CPI</td>\n",
       "      <td>10</td>\n",
       "      <td>Original</td>\n",
       "      <td>Q</td>\n",
       "      <td>Quarterly</td>\n",
       "      <td>2009-Q2</td>\n",
       "      <td>Jun-09</td>\n",
       "      <td>92.9</td>\n",
       "      <td>NaN</td>\n",
       "      <td>NaN</td>\n",
       "    </tr>\n",
       "    <tr>\n",
       "      <th>2</th>\n",
       "      <td>1</td>\n",
       "      <td>Index Numbers</td>\n",
       "      <td>1</td>\n",
       "      <td>Sydney</td>\n",
       "      <td>10001</td>\n",
       "      <td>All groups CPI</td>\n",
       "      <td>10</td>\n",
       "      <td>Original</td>\n",
       "      <td>Q</td>\n",
       "      <td>Quarterly</td>\n",
       "      <td>2009-Q3</td>\n",
       "      <td>Sep-09</td>\n",
       "      <td>93.9</td>\n",
       "      <td>NaN</td>\n",
       "      <td>NaN</td>\n",
       "    </tr>\n",
       "    <tr>\n",
       "      <th>3</th>\n",
       "      <td>1</td>\n",
       "      <td>Index Numbers</td>\n",
       "      <td>1</td>\n",
       "      <td>Sydney</td>\n",
       "      <td>10001</td>\n",
       "      <td>All groups CPI</td>\n",
       "      <td>10</td>\n",
       "      <td>Original</td>\n",
       "      <td>Q</td>\n",
       "      <td>Quarterly</td>\n",
       "      <td>2009-Q4</td>\n",
       "      <td>Dec-09</td>\n",
       "      <td>94.4</td>\n",
       "      <td>NaN</td>\n",
       "      <td>NaN</td>\n",
       "    </tr>\n",
       "    <tr>\n",
       "      <th>4</th>\n",
       "      <td>1</td>\n",
       "      <td>Index Numbers</td>\n",
       "      <td>1</td>\n",
       "      <td>Sydney</td>\n",
       "      <td>10001</td>\n",
       "      <td>All groups CPI</td>\n",
       "      <td>10</td>\n",
       "      <td>Original</td>\n",
       "      <td>Q</td>\n",
       "      <td>Quarterly</td>\n",
       "      <td>2010-Q1</td>\n",
       "      <td>Mar-10</td>\n",
       "      <td>95.2</td>\n",
       "      <td>NaN</td>\n",
       "      <td>NaN</td>\n",
       "    </tr>\n",
       "  </tbody>\n",
       "</table>\n",
       "</div>"
      ],
      "text/plain": [
       "   MEASURE        Measure  REGION  Region  INDEX           Index  TSEST  \\\n",
       "0        1  Index Numbers       1  Sydney  10001  All groups CPI     10   \n",
       "1        1  Index Numbers       1  Sydney  10001  All groups CPI     10   \n",
       "2        1  Index Numbers       1  Sydney  10001  All groups CPI     10   \n",
       "3        1  Index Numbers       1  Sydney  10001  All groups CPI     10   \n",
       "4        1  Index Numbers       1  Sydney  10001  All groups CPI     10   \n",
       "\n",
       "  Adjustment Type FREQUENCY  Frequency     TIME    Time  Value  Flag Codes  \\\n",
       "0        Original         Q  Quarterly  2009-Q1  Mar-09   92.5         NaN   \n",
       "1        Original         Q  Quarterly  2009-Q2  Jun-09   92.9         NaN   \n",
       "2        Original         Q  Quarterly  2009-Q3  Sep-09   93.9         NaN   \n",
       "3        Original         Q  Quarterly  2009-Q4  Dec-09   94.4         NaN   \n",
       "4        Original         Q  Quarterly  2010-Q1  Mar-10   95.2         NaN   \n",
       "\n",
       "   Flags  \n",
       "0    NaN  \n",
       "1    NaN  \n",
       "2    NaN  \n",
       "3    NaN  \n",
       "4    NaN  "
      ]
     },
     "execution_count": 31,
     "metadata": {},
     "output_type": "execute_result"
    }
   ],
   "source": [
    "cpi_df.head()"
   ]
  },
  {
   "cell_type": "markdown",
   "metadata": {},
   "source": [
    "- While not as messy as the previous two, there are still a lot of columns that aren't needed for what I'm after. My aim is to reduce this dataframe into just the index values and the regions."
   ]
  },
  {
   "cell_type": "code",
   "execution_count": 32,
   "metadata": {},
   "outputs": [
    {
     "data": {
      "text/html": [
       "<div>\n",
       "<style scoped>\n",
       "    .dataframe tbody tr th:only-of-type {\n",
       "        vertical-align: middle;\n",
       "    }\n",
       "\n",
       "    .dataframe tbody tr th {\n",
       "        vertical-align: top;\n",
       "    }\n",
       "\n",
       "    .dataframe thead th {\n",
       "        text-align: right;\n",
       "    }\n",
       "</style>\n",
       "<table border=\"1\" class=\"dataframe\">\n",
       "  <thead>\n",
       "    <tr style=\"text-align: right;\">\n",
       "      <th></th>\n",
       "      <th>MEASURE</th>\n",
       "      <th>REGION</th>\n",
       "      <th>Time</th>\n",
       "      <th>Value</th>\n",
       "    </tr>\n",
       "  </thead>\n",
       "  <tbody>\n",
       "    <tr>\n",
       "      <th>0</th>\n",
       "      <td>1</td>\n",
       "      <td>1</td>\n",
       "      <td>Mar-09</td>\n",
       "      <td>92.5</td>\n",
       "    </tr>\n",
       "    <tr>\n",
       "      <th>1</th>\n",
       "      <td>1</td>\n",
       "      <td>1</td>\n",
       "      <td>Jun-09</td>\n",
       "      <td>92.9</td>\n",
       "    </tr>\n",
       "    <tr>\n",
       "      <th>2</th>\n",
       "      <td>1</td>\n",
       "      <td>1</td>\n",
       "      <td>Sep-09</td>\n",
       "      <td>93.9</td>\n",
       "    </tr>\n",
       "    <tr>\n",
       "      <th>3</th>\n",
       "      <td>1</td>\n",
       "      <td>1</td>\n",
       "      <td>Dec-09</td>\n",
       "      <td>94.4</td>\n",
       "    </tr>\n",
       "    <tr>\n",
       "      <th>4</th>\n",
       "      <td>1</td>\n",
       "      <td>1</td>\n",
       "      <td>Mar-10</td>\n",
       "      <td>95.2</td>\n",
       "    </tr>\n",
       "  </tbody>\n",
       "</table>\n",
       "</div>"
      ],
      "text/plain": [
       "   MEASURE  REGION    Time  Value\n",
       "0        1       1  Mar-09   92.5\n",
       "1        1       1  Jun-09   92.9\n",
       "2        1       1  Sep-09   93.9\n",
       "3        1       1  Dec-09   94.4\n",
       "4        1       1  Mar-10   95.2"
      ]
     },
     "execution_count": 32,
     "metadata": {},
     "output_type": "execute_result"
    }
   ],
   "source": [
    "cpi_df = cpi_df.drop(['Measure','Region','INDEX','Index','TSEST','Adjustment Type','FREQUENCY','Frequency','TIME','Flag Codes','Flags'], axis=1)\n",
    "cpi_df.head()"
   ]
  },
  {
   "cell_type": "markdown",
   "metadata": {},
   "source": [
    "- This dataframe is much smaller with only 'MEASURE', 'REGION', 'Time', and 'Value' being included.\n",
    "\n",
    "### 4.2: Data Dictionary for Sydney CPI data:\n",
    "\n",
    "* Measures:\n",
    "\n",
    "    * 1 = Index number\n",
    "    * 2 = Percentage change from previous quarter\n",
    "    * 3 = Percentage change from corresponding quarter of the previous year\n",
    " \n",
    "* Regions:\n",
    "    \n",
    "    * 1 = Sydney\n",
    "    * 2 = Melbourne\n",
    "    * 3 = Brisbane\n",
    "    * 4 = Adelaide\n",
    "    * 5 = Perth\n",
    "    * 6 = Hobart\n",
    "    * 7 = Darwin\n",
    "    * 8 = Canberra\n",
    "    \n",
    "### 4.3: Sorting and separating:\n",
    "\n",
    "- For this dataframe we are not interested in plotting different sectors/property types. There was an option to compare across different types of consumer prices indices (e.g. food, travel, entertainment etc.), but the number of choices were far too numerous for the scope of this project. As a result I've just only selected the CPI for all goods to give an overall measure of how the CPI has grown in the past 10 years.\n",
    "\n",
    "\n",
    "- Below we are only creating one dataframe for the measure being index values only, and the region being Sydney.\n",
    "    "
   ]
  },
  {
   "cell_type": "code",
   "execution_count": 33,
   "metadata": {},
   "outputs": [],
   "source": [
    "#CPI index for Sydney only\n",
    "cpi_syd = cpi_df[(cpi_df['REGION'] == 1) & (cpi_df['MEASURE'] == 1)]"
   ]
  },
  {
   "cell_type": "markdown",
   "metadata": {},
   "source": [
    "### 4.4: Plotting\n",
    "\n",
    "- The plotting process here is much more straight forward as we don't need to take an average or do an initial comparison. \n",
    "\n",
    "\n",
    "- Similar to before (consult 2.4 for more details), I am applying the 'axis_cleaner' method to clean up the label of the below graph."
   ]
  },
  {
   "cell_type": "code",
   "execution_count": 34,
   "metadata": {},
   "outputs": [
    {
     "data": {
      "image/png": "[encoded data removed]",
      "text/plain": [
       "<Figure size 1080x576 with 1 Axes>"
      ]
     },
     "metadata": {
      "needs_background": "light"
     },
     "output_type": "display_data"
    }
   ],
   "source": [
    "ax5 = plt.plot(cpi_syd['Time'], cpi_syd['Value'])\n",
    "axis5 = ax5[0].axes\n",
    "axis5.set_xticklabels(cpi_syd['Time'].apply(tb.axis_cleaner,1),rotation = 45,fontsize = 14)\n",
    "plt.ylabel('Index Value',fontsize = 15)\n",
    "plt.xlabel('Quarter',fontsize = 15)\n",
    "plt.title('CPI values Mar-09 to Mar-19',fontsize = 20)\n",
    "axis5.figure.set_size_inches(15,8)"
   ]
  },
  {
   "cell_type": "markdown",
   "metadata": {},
   "source": [
    "- As we can see, the CPI has grown consistently much like wage prices.\n",
    "\n",
    "### 4.5 Calculating growth rates\n",
    "\n",
    "- Similar to before (please consult 2.6 for more information), we are storing our CPI per annum, average, and total growth values to use later, then printing out the variables below for reference.\n",
    "\n",
    "\n",
    "- With these growth rates, we're starting to see that consuer prices have grown much more in-line with wages but still far less than properties."
   ]
  },
  {
   "cell_type": "code",
   "execution_count": 35,
   "metadata": {},
   "outputs": [
    {
     "name": "stdout",
     "output_type": "stream",
     "text": [
      "The simple average growth of wages between Mar-09 and Mar-19 was 0.55%.\n",
      "The per annum growth since Mar-09 was 2.27%.\n",
      "The total growth since Mar-09 was 24.43%.\n"
     ]
    }
   ],
   "source": [
    "cpi_avg_growth = gc(cpi_syd['Value']).get_avg_growth()\n",
    "cpi_pa_growth = gc(cpi_syd['Value']).get_pa_growth()\n",
    "\n",
    "#Total growth calculated from first to last point on the index in this case between index '0' and '40'.\n",
    "cpi_tot_growth = tb.generate_growth_rate_list(cpi_syd['Value'].iloc[0],cpi_syd['Value'].iloc[40])\n",
    "\n",
    "print (\"The simple average growth of wages between Mar-09 and Mar-19 was {0:.2f}%.\".format(cpi_avg_growth*100))\n",
    "print(\"The per annum growth since Mar-09 was {0:.2f}%.\".format(cpi_pa_growth*100))\n",
    "\n",
    "#Indexing '0' because the method returns a single entry list, so to be formatted it must be indexed.\n",
    "print(\"The total growth since Mar-09 was {0:.2f}%.\".format(cpi_tot_growth[0]*100))"
   ]
  },
  {
   "cell_type": "markdown",
   "metadata": {},
   "source": [
    "## 5. Comparison\n",
    "\n",
    "### 5.1: Time series comparison\n",
    "\n",
    " - Now that we have our property prices, our wage prices and our average consumer prices, we can plot them all on the same graph to compare how they've grown.\n",
    "     - To plot all the values from March 2009 to March 2019, I will plot them all on a time series line graph as shown below. \n",
    "     - To plot the stored per annum, average and total growth values for properties, wages and consumer prices I will use a bar chart."
   ]
  },
  {
   "cell_type": "code",
   "execution_count": 36,
   "metadata": {},
   "outputs": [
    {
     "name": "stdout",
     "output_type": "stream",
     "text": [
      "For Mar-19:\n",
      "Property was 152.73 \n",
      "Wages were 131.8 \n",
      "CPI was 115.1 \n",
      "Max value is 152.73\n"
     ]
    }
   ],
   "source": [
    "v1 = syd_prop_avg['Value'].iloc[40]\n",
    "v2 = nsw_wage_avg['Value'].iloc[40]\n",
    "v3 = cpi_syd['Value'].iloc[40]\n",
    "print('For Mar-19:\\nProperty was',v1, '\\nWages were', v2, '\\nCPI was',v3, '\\nMax value is',max(v1,v2,v3))"
   ]
  },
  {
   "cell_type": "markdown",
   "metadata": {},
   "source": [
    "- For the time series graph, I decided for a more accurate comparison that I will plot each index starting from the same point. In this case the index starts at 100 for properties, wages and consumer prices. \n",
    "\n",
    "\n",
    "- Here I am using the 'get_index_list' method from the 'growth_calculator' class, that returns an index list that starts at 100 and applies the growth rates between the two points from the original indices. The point of this is so I can plot everything starting from the same point to really highlight how differently they have grown. (For more information refer to the get_index_list docstring)."
   ]
  },
  {
   "cell_type": "code",
   "execution_count": 37,
   "metadata": {},
   "outputs": [
    {
     "data": {
      "text/plain": [
       "<matplotlib.legend.Legend at 0x115d475f8>"
      ]
     },
     "execution_count": 37,
     "metadata": {},
     "output_type": "execute_result"
    },
    {
     "data": {
      "image/png": "[encoded data removed]",
      "text/plain": [
       "<Figure size 1080x576 with 1 Axes>"
      ]
     },
     "metadata": {
      "needs_background": "light"
     },
     "output_type": "display_data"
    }
   ],
   "source": [
    "#In this graph I used the index lists starting at 100 to have a more accurate comparison of how these prices\n",
    "#have grown since Mar-09, this will give a much better idea of how they've grown. \n",
    "prop_index = gc(syd_prop_avg['Value']).get_index_list()\n",
    "wage_index = gc(nsw_wage_avg['Value']).get_index_list()\n",
    "cpi_index = gc(cpi_syd['Value']).get_index_list()\n",
    "\n",
    "for value in [prop_index, wage_index, cpi_index]:\n",
    "    ax6 = plt.plot(syd_prop_avg['Time'], value)\n",
    "axis6 = ax6[0].axes\n",
    "axis6.set_xticklabels(nsw_wage_avg['Time'].apply(tb.axis_cleaner,1),rotation = 45,fontsize = 14)\n",
    "plt.ylabel('Index Value',fontsize = 15)\n",
    "plt.xlabel('Quarter',fontsize = 15)\n",
    "plt.title('CPI, property and wage index comparison Mar-09 to Mar-19',fontsize = 20)\n",
    "axis6.figure.set_size_inches(15,8)\n",
    "\n",
    "plt.legend(['Property','Wages','CPI'],fontsize = 14)"
   ]
  },
  {
   "cell_type": "markdown",
   "metadata": {},
   "source": [
    "- As we can see, our suspicions from before are confirmed. Property has indeed far outgrown both wages and consumer prices to a pretty incredible degree. The fact that they all started at the same point in March 2009, and properties ended up far higher than both CPI and wages by March 2019 highlights how huge the growth in properties has been.\n",
    "\n",
    "### 5.2: Bar chart comparison\n",
    "\n",
    "- We already know by this point, that properties have far outgrown both consumer prices and wages. But the question remains, by how much exactly?\n",
    "\n",
    "\n",
    "- To quantify this, I will take the previously stored per annum, average and total growth values from each property, wages and consumer prices and put them into a new dataframe.\n",
    "\n",
    "\n",
    "- To clean up this dataframe, I have needed to apply the 'tb.formatter' method to reduce the values to 2 decimal places followed by the float function so they are read in as floats so they can be plotted. The initial values have been multiplied by 100 so they can be expressed as a percentage when they are plotted in the bar chart."
   ]
  },
  {
   "cell_type": "code",
   "execution_count": 38,
   "metadata": {},
   "outputs": [
    {
     "data": {
      "text/html": [
       "<div>\n",
       "<style scoped>\n",
       "    .dataframe tbody tr th:only-of-type {\n",
       "        vertical-align: middle;\n",
       "    }\n",
       "\n",
       "    .dataframe tbody tr th {\n",
       "        vertical-align: top;\n",
       "    }\n",
       "\n",
       "    .dataframe thead th {\n",
       "        text-align: right;\n",
       "    }\n",
       "</style>\n",
       "<table border=\"1\" class=\"dataframe\">\n",
       "  <thead>\n",
       "    <tr style=\"text-align: right;\">\n",
       "      <th></th>\n",
       "      <th>Property</th>\n",
       "      <th>Wages</th>\n",
       "      <th>CPI</th>\n",
       "    </tr>\n",
       "  </thead>\n",
       "  <tbody>\n",
       "    <tr>\n",
       "      <th>Avg growth (%)</th>\n",
       "      <td>1.54</td>\n",
       "      <td>0.68</td>\n",
       "      <td>0.55</td>\n",
       "    </tr>\n",
       "    <tr>\n",
       "      <th>P.a. growth (%)</th>\n",
       "      <td>6.33</td>\n",
       "      <td>2.81</td>\n",
       "      <td>2.27</td>\n",
       "    </tr>\n",
       "    <tr>\n",
       "      <th>Total growth (%)</th>\n",
       "      <td>81.89</td>\n",
       "      <td>31.08</td>\n",
       "      <td>24.43</td>\n",
       "    </tr>\n",
       "  </tbody>\n",
       "</table>\n",
       "</div>"
      ],
      "text/plain": [
       "                  Property  Wages    CPI\n",
       "Avg growth (%)        1.54   0.68   0.55\n",
       "P.a. growth (%)       6.33   2.81   2.27\n",
       "Total growth (%)     81.89  31.08  24.43"
      ]
     },
     "execution_count": 38,
     "metadata": {},
     "output_type": "execute_result"
    }
   ],
   "source": [
    "#Here we are creating a new dataframe that incorporates the average growth, per annum and total growth of property, \n",
    "#wages, and consumer prices. We are doing this for the purpose of easily plotting them later on.\n",
    "merged_df = pd.DataFrame(data={'Property': [prop_avg_growth*100, prop_pa_growth*100, prop_tot_growth[0]*100],\n",
    "                               'Wages': [wage_avg_growth*100, wage_pa_growth*100, wage_tot_growth[0]*100],\n",
    "                               'CPI': [cpi_avg_growth*100, cpi_pa_growth*100, cpi_tot_growth[0]*100]\n",
    "                        }, index = ['Avg growth (%)','P.a. growth (%)','Total growth (%)'])\n",
    "merged_df['Property'] = merged_df['Property'].apply(tb.formatter,1).apply(float,1)\n",
    "merged_df['Wages'] = merged_df['Wages'].apply(tb.formatter,1).apply(float,1)\n",
    "merged_df['CPI'] = merged_df['CPI'].apply(tb.formatter,1).apply(float,1)\n",
    "merged_df"
   ]
  },
  {
   "cell_type": "markdown",
   "metadata": {},
   "source": [
    "- Our merged dataframe now shows us the average growth and per annum growth for property, wages and cpi expressed as a percentage, the only thing that remains is to plot them in a bar chart.\n",
    "\n",
    "#### 5.2.1: Simple average growth\n",
    "\n",
    "- The plotting process is quite straight forward, I am simply creating separate bar charts for average growths, per annum growths and total growths. In this section I will deal with average growths.\n",
    "\n",
    "\n",
    "- You will notice that the in the last line that I'm applying the 'tb.bar_labeller' method from the 'toolbox' class. This method automatically labels each bar with its respective value (for more details see the docstring for tb.bar_labeller)."
   ]
  },
  {
   "cell_type": "code",
   "execution_count": 39,
   "metadata": {},
   "outputs": [
    {
     "data": {
      "image/png": "[encoded data removed]",
      "text/plain": [
       "<Figure size 1080x576 with 1 Axes>"
      ]
     },
     "metadata": {
      "needs_background": "light"
     },
     "output_type": "display_data"
    }
   ],
   "source": [
    "ax7 = merged_df.loc['Avg growth (%)'].plot(kind='bar')\n",
    "ax7.set_xticklabels(merged_df.columns,rotation=0,fontsize = 14)\n",
    "plt.ylabel('Simple average growth (%)',fontsize=14)\n",
    "plt.title('Simple average growth comparison',fontsize = 20)\n",
    "ax7.figure.set_size_inches(15,8)\n",
    "\n",
    "#This labels each bar respective to each bar's width and height.\n",
    "tb.bar_labeller(ax7)"
   ]
  },
  {
   "cell_type": "markdown",
   "metadata": {},
   "source": [
    "- The bar chart continues what we had suspected before, that properties growth has gone far above wages and consumer prices. The exact amount it outgrew it by is calculated below."
   ]
  },
  {
   "cell_type": "code",
   "execution_count": 40,
   "metadata": {},
   "outputs": [
    {
     "name": "stdout",
     "output_type": "stream",
     "text": [
      "Property outgrew wages by 226.67%.\n",
      "Property outgrew consumer prices by 280.71%.\n"
     ]
    }
   ],
   "source": [
    "avg_prop2wage = (prop_avg_growth / wage_avg_growth)*100\n",
    "avg_prop2cpi = (prop_avg_growth / cpi_avg_growth)*100\n",
    "\n",
    "print(\"Property outgrew wages by {0:.2f}%.\".format(avg_prop2wage))\n",
    "print(\"Property outgrew consumer prices by {0:.2f}%.\".format(avg_prop2cpi))"
   ]
  },
  {
   "cell_type": "markdown",
   "metadata": {},
   "source": [
    "- Here is the number we've been waiting for. As you can see above, the amount that property outgrew both wages and consumer prices by is very high! Surprisingly, property outgrew consumer prices more than wages, suggesting that while properties have gotten much more expensive, consumer good have grown in line with wages.\n",
    "\n",
    "#### 5.2.2: Per annum growth\n",
    "\n",
    "\n",
    "- The next chart to plot is the per annum comparison between properties, wages and consumer prices. This follows the exact same process as the previous bar chart."
   ]
  },
  {
   "cell_type": "code",
   "execution_count": 41,
   "metadata": {},
   "outputs": [
    {
     "data": {
      "image/png": "[encoded data removed]",
      "text/plain": [
       "<Figure size 1080x576 with 1 Axes>"
      ]
     },
     "metadata": {
      "needs_background": "light"
     },
     "output_type": "display_data"
    }
   ],
   "source": [
    "ax8 = merged_df.loc['P.a. growth (%)'].plot(kind='bar')\n",
    "ax8.set_xticklabels(merged_df.columns,rotation=0,fontsize = 14)\n",
    "plt.ylabel('P.a. growth (%)',fontsize=14)\n",
    "plt.title('Per annum growth comparison',fontsize = 20)\n",
    "ax8.figure.set_size_inches(15,8)\n",
    "\n",
    "#This labels each bar respective to each bar's width and height.\n",
    "tb.bar_labeller(ax8)"
   ]
  },
  {
   "cell_type": "markdown",
   "metadata": {},
   "source": [
    "- Much like average growth, the above bar chart shows property far outgrowing wages and consumer prices. Similar to average growth, the amount that per annum growth in properties has outgrown wages and consumer prices is shown below."
   ]
  },
  {
   "cell_type": "code",
   "execution_count": 42,
   "metadata": {},
   "outputs": [
    {
     "name": "stdout",
     "output_type": "stream",
     "text": [
      "Property outgrew wages by 224.82%.\n",
      "Property outgrew consumer prices by 279.08%.\n"
     ]
    }
   ],
   "source": [
    "pa_prop2wage = (prop_pa_growth / wage_pa_growth)*100\n",
    "pa_prop2cpi = (prop_pa_growth / cpi_pa_growth)*100\n",
    "\n",
    "print(\"Property outgrew wages by {0:.2f}%.\".format(pa_prop2wage))\n",
    "print(\"Property outgrew consumer prices by {0:.2f}%.\".format(pa_prop2cpi))"
   ]
  },
  {
   "cell_type": "markdown",
   "metadata": {},
   "source": [
    "- Similar to average growth, the amount that properties has outgrown wages and consumer prices on a per annum basis is extremely high! \n",
    "\n",
    "#### 5.2.3: Total growth\n",
    "\n",
    "- The final chart to plot is the total growth from the start of our time period (March 2009) to the end (March 2019). This is a simple calculation between two points that we'd generated from the 'generate_growth_rate_list' method from before."
   ]
  },
  {
   "cell_type": "code",
   "execution_count": 43,
   "metadata": {},
   "outputs": [
    {
     "data": {
      "image/png": "[encoded data removed]",
      "text/plain": [
       "<Figure size 1080x576 with 1 Axes>"
      ]
     },
     "metadata": {
      "needs_background": "light"
     },
     "output_type": "display_data"
    }
   ],
   "source": [
    "ax9 = merged_df.loc['Total growth (%)'].plot(kind='bar')\n",
    "ax9.set_xticklabels(merged_df.columns,rotation=0,fontsize = 14)\n",
    "plt.ylabel('Total growth (%)',fontsize=14)\n",
    "plt.title('Total growth comparison',fontsize = 20)\n",
    "ax9.figure.set_size_inches(15,8)\n",
    "\n",
    "#This labels each bar respective to each bar's width and height.\n",
    "tb.bar_labeller(ax9)"
   ]
  },
  {
   "cell_type": "markdown",
   "metadata": {},
   "source": [
    "- Following the trend of average growth and per annum growth, we can see that property's total growth over the time period vastly outgrew wages and consumer prices. The amount that it outgrew both of these is calculated below."
   ]
  },
  {
   "cell_type": "code",
   "execution_count": 44,
   "metadata": {},
   "outputs": [
    {
     "name": "stdout",
     "output_type": "stream",
     "text": [
      "Property outgrew wages by 263.48%.\n",
      "Property outgrew consumer prices by 335.15%.\n"
     ]
    }
   ],
   "source": [
    "tot_prop2wage = (prop_tot_growth[0] / wage_tot_growth[0])*100\n",
    "tot_prop2cpi = (prop_tot_growth[0] / cpi_tot_growth[0])*100\n",
    "\n",
    "print(\"Property outgrew wages by {0:.2f}%.\".format(tot_prop2wage))\n",
    "print(\"Property outgrew consumer prices by {0:.2f}%.\".format(tot_prop2cpi))"
   ]
  },
  {
   "cell_type": "markdown",
   "metadata": {},
   "source": [
    "- Our final calculation shows that the total growth change was larger than average and per annum growth, with property outgrowing consumer prices by the largest amount, a whopping 3.4 times! \n",
    "\n",
    "## 6. Conclusion\n",
    "\n",
    "- The question of 'are house prices in Sydney getting more expensive?' can be answered with a resounding yes. Not only have we seen house prices outgrow both wages and consumer prices, but we've seen the high magnitude of growth relative to them as well. With house prices outgrowing wages by 2.6 times on a total growth basis, housing has gotten far more expensive, and at the current growth rate, will become even more expensive and more and more people will be excluded from the housing market in Sydney if something isn't done. \n",
    "\n",
    "\n",
    "- With housing outgrowing consumer products by 3.4 times on a total growth basis, housing has also gotten far more expensive relative to pretty much anything else. We would probably need more data to see what proportion of the average person's budget is spent on housing, but I'd say it's fairly large, and perhaps the single biggest factor influencing the average person's spending. With housing getting more expensive, consumption of other goods will go down even if they are relatively cheap. \n",
    "\n",
    "    - Something else to note is that wages have actually outgrown consumer prices over the last 10 years, suggesting that food, travel, entertainment has gotten relatively cheaper, but the reason that more and more people are feeling the pinch is the extremely high level of price growth in housing.\n",
    "    \n",
    "    \n",
    "- What can we learn from all of this? Don't feel like you're alone in thinking that housing has gotten more expensive, the data and facts support you!"
   ]
  }
 ],
 "metadata": {
  "kernelspec": {
   "display_name": "Python 3",
   "language": "python",
   "name": "python3"
  },
  "language_info": {
   "codemirror_mode": {
    "name": "ipython",
    "version": 3
   },
   "file_extension": ".py",
   "mimetype": "text/x-python",
   "name": "python",
   "nbconvert_exporter": "python",
   "pygments_lexer": "ipython3",
   "version": "3.7.4"
  }
 },
 "nbformat": 4,
 "nbformat_minor": 2
}
